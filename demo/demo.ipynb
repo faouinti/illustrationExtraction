{
 "cells": [
  {
   "cell_type": "code",
   "execution_count": null,
   "id": "210c5a40",
   "metadata": {},
   "outputs": [],
   "source": [
    "import torch\n",
    "import cv2\n",
    "\n",
    "# Model\n",
    "model = torch.hub.load(\".\", \"custom\", \"../models/syndoc_vhs.pt\", source=\"local\")\n",
    "\n",
    "# Images\n",
    "img = \"test.jpg\"  # URL, Path, PIL, OpenCV, numpy, list\n",
    "\n",
    "# Inference\n",
    "results = model(img)\n",
    "\n",
    "# Results\n",
    "results.show()  # or .print(), .save(), .crop(), .pandas(), etc.\n",
    "\n",
    "# Save image\n",
    "output_path = \"preview.jpg\"\n",
    "cv2.imwrite(output_path, cv2.cvtColor(results.render()[0], cv2.COLOR_RGB2BGR))  # Convert back to BGR before saving"
   ]
  }
 ],
 "metadata": {
  "kernelspec": {
   "display_name": "Python 3 (ipykernel)",
   "language": "python",
   "name": "python3"
  },
  "language_info": {
   "codemirror_mode": {
    "name": "ipython",
    "version": 3
   },
   "file_extension": ".py",
   "mimetype": "text/x-python",
   "name": "python",
   "nbconvert_exporter": "python",
   "pygments_lexer": "ipython3",
   "version": "3.9.13"
  }
 },
 "nbformat": 4,
 "nbformat_minor": 5
}
